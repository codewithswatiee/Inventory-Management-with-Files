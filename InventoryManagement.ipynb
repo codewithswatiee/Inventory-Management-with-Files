{
 "cells": [
  {
   "cell_type": "code",
   "execution_count": 1,
   "id": "d5f38660-98ca-47c3-aee2-9efb95ff1fbb",
   "metadata": {},
   "outputs": [],
   "source": [
    "fd = open(\"inventory.txt\", \"w\")\n",
    "fd.close()"
   ]
  },
  {
   "cell_type": "markdown",
   "id": "b1c6483c-272c-4e4f-a3bf-9739f1018d6e",
   "metadata": {},
   "source": [
    "# Product Details\n",
    "\n",
    "1. Product ID\n",
    "2. Name of product\n",
    "3. price of product\n",
    "4. Quantity"
   ]
  },
  {
   "cell_type": "code",
   "execution_count": 2,
   "id": "5fd2409c-b6a1-41f1-bf34-71643c154ba2",
   "metadata": {},
   "outputs": [],
   "source": [
    "fd = open(\"inventory.txt\", \"r\")\n",
    "txt = fd.read()\n",
    "fd.close()"
   ]
  },
  {
   "cell_type": "code",
   "execution_count": 3,
   "id": "edbfc527-4790-453f-b938-aad990d7f92c",
   "metadata": {},
   "outputs": [
    {
     "data": {
      "text/plain": [
       "'1, 5 Star, 5, 1000\\n2, milky Bar, 10, 199\\n3, dairy Milk, 20, 300\\n4, munch, 5, 6000'"
      ]
     },
     "execution_count": 3,
     "metadata": {},
     "output_type": "execute_result"
    }
   ],
   "source": [
    "txt"
   ]
  },
  {
   "cell_type": "code",
   "execution_count": 4,
   "id": "7f6b882a-f772-47c9-8657-fae0815f732f",
   "metadata": {},
   "outputs": [
    {
     "name": "stdout",
     "output_type": "stream",
     "text": [
      "1, 5 Star, 5, 1000\n",
      "2, milky Bar, 10, 199\n",
      "3, dairy Milk, 20, 300\n",
      "4, munch, 5, 6000\n"
     ]
    }
   ],
   "source": [
    "print(txt)"
   ]
  },
  {
   "cell_type": "code",
   "execution_count": 6,
   "id": "32444e77-3989-4fd9-bc50-03d13883b591",
   "metadata": {},
   "outputs": [
    {
     "name": "stdout",
     "output_type": "stream",
     "text": [
      "['1, 5 Star, 5, 1000', '2, milky Bar, 10, 199', '3, dairy Milk, 20, 300', '4, munch, 5, 6000']\n"
     ]
    }
   ],
   "source": [
    "products = txt.split('\\n')\n",
    "print(products)"
   ]
  },
  {
   "cell_type": "code",
   "execution_count": 9,
   "id": "52859470-1825-4100-85f8-47fcd7481332",
   "metadata": {},
   "outputs": [
    {
     "name": "stdout",
     "output_type": "stream",
     "text": [
      "1, 5 Star, 5, 1000\n",
      "2, milky Bar, 10, 199\n",
      "3, dairy Milk, 20, 300\n",
      "4, munch, 5, 6000\n"
     ]
    }
   ],
   "source": [
    "for i in products:\n",
    "    print(i)"
   ]
  },
  {
   "cell_type": "code",
   "execution_count": 10,
   "id": "499fbd51-82cf-4de7-af7f-9ccc38b91a4c",
   "metadata": {},
   "outputs": [
    {
     "name": "stdin",
     "output_type": "stream",
     "text": [
      "Enter product ID:  3\n"
     ]
    },
    {
     "name": "stdout",
     "output_type": "stream",
     "text": [
      "3, dairy Milk, 20, 300\n"
     ]
    }
   ],
   "source": [
    "ui_productId = input(\"Enter product ID: \")\n",
    "for product in products:\n",
    "    if product.split(',')[0] == ui_productId:\n",
    "        print(product)"
   ]
  },
  {
   "cell_type": "code",
   "execution_count": 50,
   "id": "39ef5af5-3e97-4894-9acc-ed0372f85bfa",
   "metadata": {},
   "outputs": [],
   "source": [
    "import time"
   ]
  },
  {
   "cell_type": "code",
   "execution_count": 52,
   "id": "432d4e5e-0c33-4edf-82ed-941de821b5ee",
   "metadata": {},
   "outputs": [
    {
     "name": "stdin",
     "output_type": "stream",
     "text": [
      "ENter your name:  jatin\n",
      "Enter you phone number 123465432\n",
      "Enter your email address:  jatin@gmail.com\n",
      "Enter product ID:  1\n",
      "Enter product Quantity:  234\n"
     ]
    },
    {
     "name": "stdout",
     "output_type": "stream",
     "text": [
      "------------------------------\n",
      "Product Name    :  5 Star\n",
      "Price           :  5\n",
      "Quantity        :  234\n",
      "------------------------------\n",
      "Billing Amount  :  1170\n",
      "------------------------------\n"
     ]
    }
   ],
   "source": [
    "# Taking user input\n",
    "ui_username = input(\"ENter your name: \")\n",
    "ui_phoneNo = input(\"Enter you phone number\")\n",
    "ui_phoneN = input(\"Enter your email address: \")\n",
    "ui_productId = input(\"Enter product ID: \")\n",
    "ui_prodQn = input(\"Enter product Quantity: \")\n",
    "\n",
    "# updated product list after purchase\n",
    "updated_ProdLst = []\n",
    "\n",
    "# looping through the current products\n",
    "for product in products:\n",
    "    product_details = product.split(',')\n",
    "    # matching the product ids\n",
    "    if product_details[0] == ui_productId:\n",
    "        # checking the quantity of product and executing accordingly \n",
    "        if(int(ui_prodQn) <= int(product_details[3])):\n",
    "            product_details[3] = int(product_details[3]) - int(ui_prodQn)\n",
    "            print('-'*30)\n",
    "            print('Product Name    :',product_details[1])\n",
    "            print('Price           :',product_details[2])\n",
    "            print('Quantity        : ',ui_prodQn)\n",
    "            print('-'*30)\n",
    "            print('Billing Amount  : ', int(product_details[2])*int(ui_prodQn) )\n",
    "            print('-'*30)\n",
    "\n",
    "            # updating inventory list\n",
    "            product_details[3] = int(product_details[3]) - int(ui_prodQn)\n",
    "\n",
    "            # Generating the sales file\n",
    "            fd = open(\"sales.txt\", \"a\")\n",
    "            sales_detail = ui_username + ',' + ui_phoneNo + ',' + ui_phoneN + ',' + ui_productId+ ',' + ui_prodQn + ',' + str(int(product_details[2])*int(ui_prodQn)) +',' + time.ctime()  + '\\n' \n",
    "            fd.write(sales_detail)\n",
    "            fd.close()\n",
    "        else:\n",
    "            print(\"Sorry, We're not having enough quantity!\")\n",
    "            print(\"We're having only\", product_details[3], \"quantity\")\n",
    "            print(\"Would you like to buy??\")\n",
    "\n",
    "            ch = input(\"Press Y/N\")\n",
    "\n",
    "            if(ch == 'Y' or ch == 'y'):\n",
    "                print('-'*30)\n",
    "                print('Product Name    :',product_details[1])\n",
    "                print('Price           :',product_details[2])\n",
    "                print('Quantity        : ',product_details[3])\n",
    "                print('-'*30)\n",
    "                print('Billing Amount  : ', int(product_details[2])*int(product_details[3]) )\n",
    "                print('-'*30)\n",
    "                product_details[3] = 0\n",
    "\n",
    "                fd = open(\"sales.txt\", \"a\")\n",
    "                sales_detail = ui_username + ',' + ui_phoneNo + ',' + ui_phoneN + ',' + ui_productId+ ',' + ui_prodQn + ',' + str(int(product_details[2])*int(product_details[3])) +',' + time.ctime()  + '\\n' \n",
    "                fd.write(sales_detail)\n",
    "                fd.close()\n",
    "            else:\n",
    "                print(\"Thanks!\")\n",
    "    updated_ProdLst.append(product_details)\n",
    "lst = []\n",
    "fd = open(\"inventory.txt\", 'w')\n",
    "for i in updated_ProdLst:\n",
    "    prod = str(i[0])+ ',' + str(i[1])+ ',' + str(i[2])+ ',' + str(i[3]) + '\\n'\n",
    "    lst.append(prod)\n",
    "\n",
    "lst[-1] = lst[-1][:-1]\n",
    "for i in lst:\n",
    "    fd.write(i)\n",
    "\n",
    "\n",
    "fd.close()"
   ]
  },
  {
   "cell_type": "code",
   "execution_count": 25,
   "id": "9aadb2ad-a6ce-40a0-94b8-1c875523f849",
   "metadata": {},
   "outputs": [],
   "source": []
  },
  {
   "cell_type": "code",
   "execution_count": null,
   "id": "42b918c5-22f1-4d10-bcb0-0b4d080c8a2d",
   "metadata": {},
   "outputs": [],
   "source": []
  }
 ],
 "metadata": {
  "kernelspec": {
   "display_name": "Python 3 (ipykernel)",
   "language": "python",
   "name": "python3"
  },
  "language_info": {
   "codemirror_mode": {
    "name": "ipython",
    "version": 3
   },
   "file_extension": ".py",
   "mimetype": "text/x-python",
   "name": "python",
   "nbconvert_exporter": "python",
   "pygments_lexer": "ipython3",
   "version": "3.12.7"
  }
 },
 "nbformat": 4,
 "nbformat_minor": 5
}
